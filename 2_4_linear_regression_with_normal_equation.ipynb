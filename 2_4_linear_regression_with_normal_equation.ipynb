{
 "cells": [
  {
   "cell_type": "code",
   "execution_count": 1,
   "id": "dfd9bb4e",
   "metadata": {},
   "outputs": [],
   "source": [
    "import numpy as np\n",
    "import pandas as pd\n",
    "\n",
    "df = pd.read_csv('data/Advertising.csv')"
   ]
  },
  {
   "cell_type": "code",
   "execution_count": 2,
   "id": "2018890b",
   "metadata": {},
   "outputs": [],
   "source": [
    "df.drop(columns=['Radio', 'Newspaper'], inplace=True)"
   ]
  },
  {
   "cell_type": "markdown",
   "id": "4bc830bf",
   "metadata": {},
   "source": [
    "$\\theta = (X^{T} X)^{-1}X^{T}y$"
   ]
  },
  {
   "cell_type": "code",
   "execution_count": 3,
   "id": "682a006d",
   "metadata": {},
   "outputs": [
    {
     "data": {
      "text/plain": [
       "array([[6.97482149],\n",
       "       [0.05546477]])"
      ]
     },
     "execution_count": 3,
     "metadata": {},
     "output_type": "execute_result"
    }
   ],
   "source": [
    "m = df['Sales'].values.size\n",
    "x = np.append(np.ones((m, 1)), df['TV'].values.reshape(m, 1), axis = 1)\n",
    "y = df['Sales'].values.reshape(m, 1)\n",
    "A = np.linalg.inv(np.dot(x.transpose(), x))\n",
    "B = np.dot(x.transpose(), y)\n",
    "\n",
    "theta = np.dot(A, B)\n",
    "theta"
   ]
  },
  {
   "cell_type": "code",
   "execution_count": null,
   "id": "e92f23bc",
   "metadata": {},
   "outputs": [],
   "source": []
  }
 ],
 "metadata": {
  "kernelspec": {
   "display_name": "Python 3 (ipykernel)",
   "language": "python",
   "name": "python3"
  },
  "language_info": {
   "codemirror_mode": {
    "name": "ipython",
    "version": 3
   },
   "file_extension": ".py",
   "mimetype": "text/x-python",
   "name": "python",
   "nbconvert_exporter": "python",
   "pygments_lexer": "ipython3",
   "version": "3.7.9"
  }
 },
 "nbformat": 4,
 "nbformat_minor": 5
}
