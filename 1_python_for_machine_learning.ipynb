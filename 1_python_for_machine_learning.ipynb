{
 "cells": [
  {
   "cell_type": "markdown",
   "id": "e0676309",
   "metadata": {},
   "source": [
    "# Varible\n",
    "\n",
    "### Basic variable"
   ]
  },
  {
   "cell_type": "code",
   "execution_count": null,
   "id": "a073ce11",
   "metadata": {},
   "outputs": [],
   "source": [
    "nama = 'Sasuke'\n",
    "umur = '25'"
   ]
  },
  {
   "cell_type": "code",
   "execution_count": null,
   "id": "25d8aea1",
   "metadata": {},
   "outputs": [],
   "source": [
    "nama"
   ]
  },
  {
   "cell_type": "code",
   "execution_count": null,
   "id": "fa93bdaa",
   "metadata": {},
   "outputs": [],
   "source": [
    "type(nama)"
   ]
  },
  {
   "cell_type": "code",
   "execution_count": null,
   "id": "f8c90470",
   "metadata": {},
   "outputs": [],
   "source": [
    "umur"
   ]
  },
  {
   "cell_type": "code",
   "execution_count": null,
   "id": "4fa0f56b",
   "metadata": {},
   "outputs": [],
   "source": [
    "umur = 25"
   ]
  },
  {
   "cell_type": "code",
   "execution_count": null,
   "id": "64294b80",
   "metadata": {},
   "outputs": [],
   "source": [
    "type(umur)"
   ]
  },
  {
   "cell_type": "code",
   "execution_count": null,
   "id": "749ad350",
   "metadata": {},
   "outputs": [],
   "source": [
    "jomblo = True"
   ]
  },
  {
   "cell_type": "code",
   "execution_count": null,
   "id": "9406baee",
   "metadata": {},
   "outputs": [],
   "source": [
    "type(jomblo)"
   ]
  },
  {
   "cell_type": "markdown",
   "id": "5d3cf613",
   "metadata": {},
   "source": [
    "### Arithmetic Operation"
   ]
  },
  {
   "cell_type": "code",
   "execution_count": null,
   "id": "92151140",
   "metadata": {},
   "outputs": [],
   "source": [
    "a = 10\n",
    "b = 5\n",
    "\n",
    "a + b"
   ]
  },
  {
   "cell_type": "code",
   "execution_count": null,
   "id": "cd0d2616",
   "metadata": {},
   "outputs": [],
   "source": [
    "c = a + b"
   ]
  },
  {
   "cell_type": "code",
   "execution_count": null,
   "id": "d84579ff",
   "metadata": {},
   "outputs": [],
   "source": [
    "c"
   ]
  },
  {
   "cell_type": "markdown",
   "id": "2b280d94",
   "metadata": {},
   "source": [
    "c = c + 1"
   ]
  },
  {
   "cell_type": "code",
   "execution_count": null,
   "id": "5c906f99",
   "metadata": {},
   "outputs": [],
   "source": [
    "c += 1"
   ]
  },
  {
   "cell_type": "code",
   "execution_count": null,
   "id": "f47e5ee4",
   "metadata": {},
   "outputs": [],
   "source": [
    "c"
   ]
  },
  {
   "cell_type": "code",
   "execution_count": null,
   "id": "daf43743",
   "metadata": {},
   "outputs": [],
   "source": [
    "c -= 5"
   ]
  },
  {
   "cell_type": "code",
   "execution_count": null,
   "id": "acd29756",
   "metadata": {},
   "outputs": [],
   "source": [
    "c"
   ]
  },
  {
   "cell_type": "code",
   "execution_count": null,
   "id": "35e7b7aa",
   "metadata": {},
   "outputs": [],
   "source": [
    "e = 40\n",
    "f = 20\n",
    "\n",
    "print(e * f)\n",
    "print(e / f)\n",
    "print(e + f)\n",
    "print(e - f)\n",
    "print(e % f)\n",
    "print(e ** 2)"
   ]
  },
  {
   "cell_type": "markdown",
   "id": "2b089364",
   "metadata": {},
   "source": [
    "### String"
   ]
  },
  {
   "cell_type": "code",
   "execution_count": null,
   "id": "6eb9df5a",
   "metadata": {},
   "outputs": [],
   "source": [
    "g = 'Sasuke pergi ke pasar'\n",
    "\n",
    "print(len(g))\n",
    "print(g.index('pergi'))\n",
    "print(g.split(' '))\n",
    "print(g.lower())\n",
    "print(g.upper())"
   ]
  },
  {
   "cell_type": "markdown",
   "id": "a7e3af6b",
   "metadata": {},
   "source": [
    "### Convert String to Number"
   ]
  },
  {
   "cell_type": "code",
   "execution_count": null,
   "id": "6fd188da",
   "metadata": {},
   "outputs": [],
   "source": [
    "h = '25'\n",
    "i = int(h)\n",
    "\n",
    "print(type(h))\n",
    "print(i)\n",
    "print(type(i))"
   ]
  },
  {
   "cell_type": "markdown",
   "id": "c3457b6c",
   "metadata": {},
   "source": [
    "### Math Module"
   ]
  },
  {
   "cell_type": "code",
   "execution_count": null,
   "id": "ca3203cd",
   "metadata": {},
   "outputs": [],
   "source": [
    "import math\n",
    "\n",
    "print(round(6.4))\n",
    "print(round(6.8))\n",
    "print(math.floor(6.8))\n",
    "print(math.ceil(6.8))"
   ]
  },
  {
   "cell_type": "markdown",
   "id": "87bc3496",
   "metadata": {},
   "source": [
    "### Tuple"
   ]
  },
  {
   "cell_type": "code",
   "execution_count": null,
   "id": "1299d200",
   "metadata": {},
   "outputs": [],
   "source": [
    "tup1 = ('physics', 'chemistry', 1997, 2000)\n",
    "tup2 = (1, 2, 3, 4, 5, 6, 7 )\n",
    "\n",
    "print(\"Print all tuple1: \", tup1)\n",
    "print(\"Print all tuple2: \", tup2)\n",
    "print(\"Print tuple1 element-0: \", tup1[0])\n",
    "print(\"Print tuple1 element-1 until 5: \", tup2[1:5])\n",
    "print(\"Join two tuple: \", tup1 + tup2)"
   ]
  },
  {
   "cell_type": "code",
   "execution_count": null,
   "id": "4ac06ae0",
   "metadata": {},
   "outputs": [],
   "source": [
    "tup1[1]"
   ]
  },
  {
   "cell_type": "markdown",
   "id": "98ad598c",
   "metadata": {},
   "source": [
    "### List"
   ]
  },
  {
   "cell_type": "code",
   "execution_count": null,
   "id": "e12f8f36",
   "metadata": {},
   "outputs": [],
   "source": [
    "list1 = [ 'abcd', 786 , 2.23, 'john', 70.2 ]\n",
    "tinylist = [123, 'john']\n",
    "\n",
    "print(\"Print all list: \", list1)\n",
    "print(\"Print list element-0: \", list1[0])\n",
    "print(\"Print list element-1: \", list1[1])\n",
    "print(\"Print list element-1 until 3: \", list1[1:3])\n",
    "print(\"Print list element-1 until 4: \",list1[1:4])\n",
    "print(\"Print list element-2 until end: \",list1[2:])\n",
    "print(\"Print list twice: \",tinylist * 2)\n",
    "print(\"Join two list: \", list1 + tinylist, \"\\n\")"
   ]
  },
  {
   "cell_type": "code",
   "execution_count": null,
   "id": "7528b261",
   "metadata": {},
   "outputs": [],
   "source": [
    "list1[1] = 'coba'\n",
    "list1[1]"
   ]
  },
  {
   "cell_type": "code",
   "execution_count": null,
   "id": "ae8263bc",
   "metadata": {},
   "outputs": [],
   "source": [
    "list1"
   ]
  },
  {
   "cell_type": "code",
   "execution_count": null,
   "id": "0f63a559",
   "metadata": {},
   "outputs": [],
   "source": [
    "# tuple[1] = 'math'\n",
    "# tuple[1]"
   ]
  },
  {
   "cell_type": "markdown",
   "id": "80d20232",
   "metadata": {},
   "source": [
    "### Dictionary\n",
    "\n",
    "+ jumlahnya 1: {'key': value}\n",
    "+ jumlahnya lebih dari 1: {'key1': value1, 'key2': value2, 'key3': {'key3.1': value31, 'key3.2': value32}}"
   ]
  },
  {
   "cell_type": "code",
   "execution_count": null,
   "id": "3b7bda71",
   "metadata": {},
   "outputs": [],
   "source": [
    "dict1 = {}\n",
    "dict1['one'] = \"This is one\"\n",
    "dict1[2] = \"This is two\"\n",
    "tinydict = {'name': 'john','code':6734, 'dept': {'pos': 'sales', 'pos': 'engineering'}}\n",
    "\n",
    "print(\"Print dictionary on dict1['one']: \", dict1['one'])\n",
    "print(\"Print dictionary on dict1[2]: \",dict1[2])\n",
    "print(\"Print dictionary on dict1: \", dict1)\n",
    "print(\"Print dictionary on tinydict: \", tinydict)\n",
    "print(\"Print tinydict dictionary keys: \", tinydict.keys())\n",
    "print(\"Print tinydict dictionary values: \", tinydict.values(), \"\\n\")"
   ]
  },
  {
   "cell_type": "markdown",
   "id": "d5096b45",
   "metadata": {},
   "source": [
    "### Numpy"
   ]
  },
  {
   "cell_type": "code",
   "execution_count": null,
   "id": "f55e3521",
   "metadata": {},
   "outputs": [],
   "source": [
    "import numpy as np"
   ]
  },
  {
   "cell_type": "code",
   "execution_count": null,
   "id": "9b19bc3e",
   "metadata": {},
   "outputs": [],
   "source": [
    "my_list = [1, 2, 3, 4, 5]\n",
    "\n",
    "type(my_list)"
   ]
  },
  {
   "cell_type": "code",
   "execution_count": null,
   "id": "7e365609",
   "metadata": {},
   "outputs": [],
   "source": [
    "my_list"
   ]
  },
  {
   "cell_type": "code",
   "execution_count": null,
   "id": "fe6dcaa0",
   "metadata": {},
   "outputs": [],
   "source": [
    "my_list_np = np.array(my_list)\n",
    "\n",
    "type(my_list_np)"
   ]
  },
  {
   "cell_type": "code",
   "execution_count": null,
   "id": "5edb9d31",
   "metadata": {},
   "outputs": [],
   "source": [
    "my_list_np"
   ]
  },
  {
   "cell_type": "code",
   "execution_count": null,
   "id": "20f8694e",
   "metadata": {},
   "outputs": [],
   "source": [
    "my_list_np.shape"
   ]
  },
  {
   "cell_type": "code",
   "execution_count": null,
   "id": "8d4334ae",
   "metadata": {},
   "outputs": [],
   "source": [
    "my_list_matrix = np.array([[1, 2, 7], [3, 4, 6]])\n",
    "\n",
    "my_list_matrix"
   ]
  },
  {
   "cell_type": "code",
   "execution_count": null,
   "id": "4e4a9caf",
   "metadata": {},
   "outputs": [],
   "source": [
    "my_list_matrix.shape"
   ]
  },
  {
   "cell_type": "code",
   "execution_count": null,
   "id": "9880e963",
   "metadata": {},
   "outputs": [],
   "source": [
    "np.arange(0, 10)"
   ]
  },
  {
   "cell_type": "code",
   "execution_count": null,
   "id": "7dab90e5",
   "metadata": {},
   "outputs": [],
   "source": [
    "np.zeros(5)"
   ]
  },
  {
   "cell_type": "code",
   "execution_count": null,
   "id": "7aca2404",
   "metadata": {},
   "outputs": [],
   "source": [
    "mat1 = np.array([[1, 2, 7], [3, 4, 6]])\n",
    "mat2 = np.array([[2, 5, 8], [6, 4, 6], [7, 5, 6]])\n",
    "\n",
    "np.dot(mat1, mat2)"
   ]
  },
  {
   "cell_type": "code",
   "execution_count": null,
   "id": "a1ce1522",
   "metadata": {},
   "outputs": [],
   "source": [
    "mat2"
   ]
  },
  {
   "cell_type": "code",
   "execution_count": null,
   "id": "dcdf5f20",
   "metadata": {},
   "outputs": [],
   "source": [
    "mat2.shape"
   ]
  },
  {
   "cell_type": "code",
   "execution_count": null,
   "id": "ddad09a5",
   "metadata": {},
   "outputs": [],
   "source": [
    "mat2[:, 0]"
   ]
  },
  {
   "cell_type": "code",
   "execution_count": null,
   "id": "13da705e",
   "metadata": {},
   "outputs": [],
   "source": [
    "mat2[1, 0:2]"
   ]
  },
  {
   "cell_type": "code",
   "execution_count": null,
   "id": "c26fdd68",
   "metadata": {},
   "outputs": [],
   "source": [
    "mat2[1][1]"
   ]
  },
  {
   "cell_type": "markdown",
   "id": "c971e6ee",
   "metadata": {},
   "source": [
    "### Pandas Series and DataFrame"
   ]
  },
  {
   "cell_type": "code",
   "execution_count": null,
   "id": "595bbe90",
   "metadata": {},
   "outputs": [],
   "source": [
    "import pandas as pd\n",
    "from numpy.random import randn\n",
    "\n",
    "df = pd.DataFrame(randn(5,4), index='1 2 3 4 5'.split(), columns='A B C F'.split())\n",
    "\n",
    "df"
   ]
  },
  {
   "cell_type": "code",
   "execution_count": null,
   "id": "2374e2d9",
   "metadata": {},
   "outputs": [],
   "source": [
    "df.size"
   ]
  },
  {
   "cell_type": "code",
   "execution_count": null,
   "id": "9c6c64d9",
   "metadata": {},
   "outputs": [],
   "source": [
    "df.shape"
   ]
  },
  {
   "cell_type": "code",
   "execution_count": null,
   "id": "e40001ce",
   "metadata": {},
   "outputs": [],
   "source": [
    "df['A']"
   ]
  },
  {
   "cell_type": "code",
   "execution_count": null,
   "id": "48e50e4c",
   "metadata": {},
   "outputs": [],
   "source": [
    "df.loc[['2', '3'], ['B', 'C']]"
   ]
  },
  {
   "cell_type": "code",
   "execution_count": null,
   "id": "6ea76a80",
   "metadata": {},
   "outputs": [],
   "source": [
    "df.iloc[:, 1]"
   ]
  },
  {
   "cell_type": "code",
   "execution_count": null,
   "id": "948cb754",
   "metadata": {},
   "outputs": [],
   "source": [
    "df.iloc[2:4, 0]"
   ]
  },
  {
   "cell_type": "markdown",
   "id": "099ad5dc",
   "metadata": {},
   "source": [
    "# Logic"
   ]
  },
  {
   "cell_type": "code",
   "execution_count": null,
   "id": "4fd9e88d",
   "metadata": {},
   "outputs": [],
   "source": [
    "nama = 'Sasuke'\n",
    "umur = 10\n",
    "jomblo = False"
   ]
  },
  {
   "cell_type": "markdown",
   "id": "38eda3f2",
   "metadata": {},
   "source": [
    "### If"
   ]
  },
  {
   "cell_type": "code",
   "execution_count": null,
   "id": "4a2d8036",
   "metadata": {},
   "outputs": [],
   "source": [
    "if jomblo == True:\n",
    "    print(\"Sasuke jomblo\")"
   ]
  },
  {
   "cell_type": "markdown",
   "id": "57924ea1",
   "metadata": {},
   "source": [
    "### If Else"
   ]
  },
  {
   "cell_type": "code",
   "execution_count": null,
   "id": "53521b58",
   "metadata": {},
   "outputs": [],
   "source": [
    "if jomblo == True:\n",
    "    print(\"Sasuke jomblo\")\n",
    "else:\n",
    "    print(\"Sasuke tidak jomblo\")"
   ]
  },
  {
   "cell_type": "markdown",
   "id": "5f99b6f8",
   "metadata": {},
   "source": [
    "AND \n",
    "1 & 1 = True\n",
    "1 & 0 = False\n",
    "0 & 1 = False\n",
    "0 & 0 = False\n",
    "\n",
    "AND \n",
    "1 & 1 = True\n",
    "1 & 0 = True\n",
    "0 & 1 = True\n",
    "0 & 0 = False\n"
   ]
  },
  {
   "cell_type": "markdown",
   "id": "6116873d",
   "metadata": {},
   "source": [
    "### And"
   ]
  },
  {
   "cell_type": "code",
   "execution_count": null,
   "id": "60bc4d9c",
   "metadata": {},
   "outputs": [],
   "source": [
    "if umur > 17:\n",
    "    print(\"Sasuke Dewasa\")\n",
    "elif umur > 14 and umur < 17:\n",
    "    print(\"Sasuke Remaja\")\n",
    "else:\n",
    "    print(\"Sasuke Kecil\")"
   ]
  },
  {
   "cell_type": "markdown",
   "id": "a5aeb5ed",
   "metadata": {},
   "source": [
    "### Or"
   ]
  },
  {
   "cell_type": "code",
   "execution_count": null,
   "id": "be06a4a0",
   "metadata": {},
   "outputs": [],
   "source": [
    "if umur > 17:\n",
    "    print(\"Sasuke Dewasa\")\n",
    "elif umur > 14 or umur < 17:\n",
    "    print(\"Sasuke Remaja\")\n",
    "else:\n",
    "    print(\"Sasuke Kecil\")"
   ]
  },
  {
   "cell_type": "code",
   "execution_count": null,
   "id": "4e73d98c",
   "metadata": {},
   "outputs": [],
   "source": [
    "buah = [\"nanas\", \"apel\", \"pepaya\", \"manggis\"]\n",
    "\n",
    "if buah[1] == \"manggis\":\n",
    "    print(\"True\")\n",
    "else:\n",
    "    print(\"False\")"
   ]
  },
  {
   "cell_type": "code",
   "execution_count": null,
   "id": "6f5fbbcb",
   "metadata": {},
   "outputs": [],
   "source": [
    "matrix1 = np.array([[1, 2, 7], [3, 4, 6]])\n",
    "\n",
    "matrix1"
   ]
  },
  {
   "cell_type": "code",
   "execution_count": null,
   "id": "dd4aa679",
   "metadata": {},
   "outputs": [],
   "source": [
    "if matrix1[1][1] == 4:\n",
    "    print(\"True\")\n",
    "else:\n",
    "    print(\"False\")"
   ]
  },
  {
   "cell_type": "markdown",
   "id": "3674356c",
   "metadata": {},
   "source": [
    "# Loop atau Perulangan"
   ]
  },
  {
   "cell_type": "code",
   "execution_count": null,
   "id": "2706fb8d",
   "metadata": {},
   "outputs": [],
   "source": [
    "fruits = [\"nanas\", \"pisang\", \"semangka\", \"apple\"]"
   ]
  },
  {
   "cell_type": "markdown",
   "id": "a64d25c3",
   "metadata": {},
   "source": [
    "## For"
   ]
  },
  {
   "cell_type": "code",
   "execution_count": null,
   "id": "09680cfc",
   "metadata": {},
   "outputs": [],
   "source": [
    "for fruit in fruits:\n",
    "    print(fruit)"
   ]
  },
  {
   "cell_type": "code",
   "execution_count": null,
   "id": "e0405518",
   "metadata": {},
   "outputs": [],
   "source": [
    "for i in range(10):\n",
    "    print(i)"
   ]
  },
  {
   "cell_type": "code",
   "execution_count": null,
   "id": "80460fce",
   "metadata": {},
   "outputs": [],
   "source": [
    "for i, fruit in enumerate(fruits):\n",
    "    print(f'{fruit} buah ke {i}')"
   ]
  },
  {
   "cell_type": "markdown",
   "id": "2ff5a9dd",
   "metadata": {},
   "source": [
    "## While"
   ]
  },
  {
   "cell_type": "code",
   "execution_count": null,
   "id": "a6df83ca",
   "metadata": {},
   "outputs": [],
   "source": [
    "count = 0\n",
    "\n",
    "while (count < 9):\n",
    "   print('The count is:', count)\n",
    "   count = count + 1\n",
    "\n",
    "print(\"\\nGood bye!\")"
   ]
  },
  {
   "cell_type": "markdown",
   "id": "7684d3d8",
   "metadata": {},
   "source": [
    "### Break"
   ]
  },
  {
   "cell_type": "code",
   "execution_count": null,
   "id": "21a38cd9",
   "metadata": {},
   "outputs": [],
   "source": [
    "for letter in 'Python':\n",
    "    print(\"Current Letter :\", letter)\n",
    "    \n",
    "    if letter == 'h':\n",
    "        break"
   ]
  },
  {
   "cell_type": "code",
   "execution_count": null,
   "id": "fffdba52",
   "metadata": {},
   "outputs": [],
   "source": [
    "var = 10\n",
    "\n",
    "while var > 0:\n",
    "    var = var - 1\n",
    "    print(\"Current variable value :\", var)\n",
    "    \n",
    "    if var == 5:\n",
    "        break"
   ]
  },
  {
   "cell_type": "markdown",
   "id": "9c38935b",
   "metadata": {},
   "source": [
    "### Pass"
   ]
  },
  {
   "cell_type": "code",
   "execution_count": null,
   "id": "d6b17990",
   "metadata": {},
   "outputs": [],
   "source": [
    "for letter in 'Python':\n",
    "    if letter == 'h':\n",
    "        pass\n",
    "        print('This is pass block')\n",
    "        \n",
    "    print('Current Letter :', letter)"
   ]
  },
  {
   "cell_type": "markdown",
   "id": "3a5caec0",
   "metadata": {},
   "source": [
    "# Function"
   ]
  },
  {
   "cell_type": "markdown",
   "id": "bfeb9ed5",
   "metadata": {},
   "source": [
    "### Void Function"
   ]
  },
  {
   "cell_type": "code",
   "execution_count": null,
   "id": "d1deee3e",
   "metadata": {},
   "outputs": [],
   "source": [
    "def print_coba"
   ]
  },
  {
   "cell_type": "markdown",
   "id": "bb9880dc",
   "metadata": {},
   "source": [
    "### Function with Return value"
   ]
  },
  {
   "cell_type": "code",
   "execution_count": null,
   "id": "fd3a765e",
   "metadata": {},
   "outputs": [],
   "source": [
    "def perkalian(a, b):\n",
    "    hasil_kali = a * b\n",
    "    return hasil_kali"
   ]
  },
  {
   "cell_type": "code",
   "execution_count": null,
   "id": "af667636",
   "metadata": {},
   "outputs": [],
   "source": [
    "perkalian(10, 2)"
   ]
  },
  {
   "cell_type": "code",
   "execution_count": null,
   "id": "ce09a172",
   "metadata": {},
   "outputs": [],
   "source": [
    "def kali_bagi(a, b):\n",
    "    hasil_kali = a * b\n",
    "    hasil_bagi = a / b\n",
    "    return hasil_kali, hasil_bagi"
   ]
  },
  {
   "cell_type": "code",
   "execution_count": null,
   "id": "8a2fa944",
   "metadata": {},
   "outputs": [],
   "source": [
    "hasil_kali, hasil_bagi = kali_bagi(10, 2)\n",
    "\n",
    "print(hasil_kali)\n",
    "print(hasil_bagi)"
   ]
  },
  {
   "cell_type": "code",
   "execution_count": 12,
   "id": "3ea4cd09",
   "metadata": {},
   "outputs": [],
   "source": [
    "f = 20\n",
    "\n",
    "def coba_var(a, b):\n",
    "    global c\n",
    "    c = 10\n",
    "    \n",
    "    d = a + b + c + f\n",
    "    \n",
    "    return d"
   ]
  },
  {
   "cell_type": "code",
   "execution_count": 13,
   "id": "6619ed44",
   "metadata": {},
   "outputs": [
    {
     "data": {
      "text/plain": [
       "60"
      ]
     },
     "execution_count": 13,
     "metadata": {},
     "output_type": "execute_result"
    }
   ],
   "source": [
    "coba_var(10, 20)"
   ]
  },
  {
   "cell_type": "code",
   "execution_count": 14,
   "id": "6f96bed9",
   "metadata": {},
   "outputs": [
    {
     "data": {
      "text/plain": [
       "10"
      ]
     },
     "execution_count": 14,
     "metadata": {},
     "output_type": "execute_result"
    }
   ],
   "source": [
    "c"
   ]
  }
 ],
 "metadata": {
  "kernelspec": {
   "display_name": "Python 3 (ipykernel)",
   "language": "python",
   "name": "python3"
  },
  "language_info": {
   "codemirror_mode": {
    "name": "ipython",
    "version": 3
   },
   "file_extension": ".py",
   "mimetype": "text/x-python",
   "name": "python",
   "nbconvert_exporter": "python",
   "pygments_lexer": "ipython3",
   "version": "3.7.9"
  }
 },
 "nbformat": 4,
 "nbformat_minor": 5
}
