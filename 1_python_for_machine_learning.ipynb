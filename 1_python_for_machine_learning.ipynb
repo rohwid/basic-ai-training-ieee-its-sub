{
 "cells": [
  {
   "cell_type": "markdown",
   "id": "e0676309",
   "metadata": {},
   "source": [
    "# Varible\n",
    "\n",
    "### Basic variable"
   ]
  },
  {
   "cell_type": "code",
   "execution_count": 1,
   "id": "a073ce11",
   "metadata": {},
   "outputs": [],
   "source": [
    "nama = 'Sasuke'\n",
    "umur = '25'"
   ]
  },
  {
   "cell_type": "code",
   "execution_count": 2,
   "id": "25d8aea1",
   "metadata": {},
   "outputs": [
    {
     "data": {
      "text/plain": [
       "'Sasuke'"
      ]
     },
     "execution_count": 2,
     "metadata": {},
     "output_type": "execute_result"
    }
   ],
   "source": [
    "nama"
   ]
  },
  {
   "cell_type": "code",
   "execution_count": 3,
   "id": "fa93bdaa",
   "metadata": {},
   "outputs": [
    {
     "data": {
      "text/plain": [
       "str"
      ]
     },
     "execution_count": 3,
     "metadata": {},
     "output_type": "execute_result"
    }
   ],
   "source": [
    "type(nama)"
   ]
  },
  {
   "cell_type": "code",
   "execution_count": 4,
   "id": "f8c90470",
   "metadata": {},
   "outputs": [
    {
     "data": {
      "text/plain": [
       "'25'"
      ]
     },
     "execution_count": 4,
     "metadata": {},
     "output_type": "execute_result"
    }
   ],
   "source": [
    "umur"
   ]
  },
  {
   "cell_type": "code",
   "execution_count": 5,
   "id": "4fa0f56b",
   "metadata": {},
   "outputs": [],
   "source": [
    "umur = 25"
   ]
  },
  {
   "cell_type": "code",
   "execution_count": 6,
   "id": "64294b80",
   "metadata": {},
   "outputs": [
    {
     "data": {
      "text/plain": [
       "int"
      ]
     },
     "execution_count": 6,
     "metadata": {},
     "output_type": "execute_result"
    }
   ],
   "source": [
    "type(umur)"
   ]
  },
  {
   "cell_type": "code",
   "execution_count": 7,
   "id": "749ad350",
   "metadata": {},
   "outputs": [],
   "source": [
    "jomblo = True"
   ]
  },
  {
   "cell_type": "code",
   "execution_count": 8,
   "id": "9406baee",
   "metadata": {},
   "outputs": [
    {
     "data": {
      "text/plain": [
       "bool"
      ]
     },
     "execution_count": 8,
     "metadata": {},
     "output_type": "execute_result"
    }
   ],
   "source": [
    "type(jomblo)"
   ]
  },
  {
   "cell_type": "markdown",
   "id": "5d3cf613",
   "metadata": {},
   "source": [
    "### Arithmetic Operation"
   ]
  },
  {
   "cell_type": "code",
   "execution_count": 9,
   "id": "92151140",
   "metadata": {},
   "outputs": [
    {
     "data": {
      "text/plain": [
       "15"
      ]
     },
     "execution_count": 9,
     "metadata": {},
     "output_type": "execute_result"
    }
   ],
   "source": [
    "a = 10\n",
    "b = 5\n",
    "\n",
    "a + b"
   ]
  },
  {
   "cell_type": "code",
   "execution_count": 10,
   "id": "cd0d2616",
   "metadata": {},
   "outputs": [],
   "source": [
    "c = a + b"
   ]
  },
  {
   "cell_type": "code",
   "execution_count": 11,
   "id": "d84579ff",
   "metadata": {},
   "outputs": [
    {
     "data": {
      "text/plain": [
       "15"
      ]
     },
     "execution_count": 11,
     "metadata": {},
     "output_type": "execute_result"
    }
   ],
   "source": [
    "c"
   ]
  },
  {
   "cell_type": "markdown",
   "id": "2b280d94",
   "metadata": {},
   "source": [
    "c = c + 1"
   ]
  },
  {
   "cell_type": "code",
   "execution_count": 12,
   "id": "5c906f99",
   "metadata": {},
   "outputs": [],
   "source": [
    "c += 1"
   ]
  },
  {
   "cell_type": "code",
   "execution_count": 13,
   "id": "f47e5ee4",
   "metadata": {},
   "outputs": [
    {
     "data": {
      "text/plain": [
       "16"
      ]
     },
     "execution_count": 13,
     "metadata": {},
     "output_type": "execute_result"
    }
   ],
   "source": [
    "c"
   ]
  },
  {
   "cell_type": "code",
   "execution_count": 14,
   "id": "daf43743",
   "metadata": {},
   "outputs": [],
   "source": [
    "c -= 5"
   ]
  },
  {
   "cell_type": "code",
   "execution_count": 15,
   "id": "acd29756",
   "metadata": {},
   "outputs": [
    {
     "data": {
      "text/plain": [
       "11"
      ]
     },
     "execution_count": 15,
     "metadata": {},
     "output_type": "execute_result"
    }
   ],
   "source": [
    "c"
   ]
  },
  {
   "cell_type": "code",
   "execution_count": 16,
   "id": "35e7b7aa",
   "metadata": {},
   "outputs": [
    {
     "name": "stdout",
     "output_type": "stream",
     "text": [
      "800\n",
      "2.0\n",
      "60\n",
      "20\n",
      "0\n",
      "1600\n"
     ]
    }
   ],
   "source": [
    "e = 40\n",
    "f = 20\n",
    "\n",
    "print(e * f)\n",
    "print(e / f)\n",
    "print(e + f)\n",
    "print(e - f)\n",
    "print(e % f)\n",
    "print(e ** 2)"
   ]
  },
  {
   "cell_type": "markdown",
   "id": "2b089364",
   "metadata": {},
   "source": [
    "### String"
   ]
  },
  {
   "cell_type": "code",
   "execution_count": 17,
   "id": "6eb9df5a",
   "metadata": {},
   "outputs": [
    {
     "name": "stdout",
     "output_type": "stream",
     "text": [
      "21\n",
      "7\n",
      "['Sasuke', 'pergi', 'ke', 'pasar']\n",
      "sasuke pergi ke pasar\n",
      "SASUKE PERGI KE PASAR\n"
     ]
    }
   ],
   "source": [
    "g = 'Sasuke pergi ke pasar'\n",
    "\n",
    "print(len(g))\n",
    "print(g.index('pergi'))\n",
    "print(g.split(' '))\n",
    "print(g.lower())\n",
    "print(g.upper())"
   ]
  },
  {
   "cell_type": "markdown",
   "id": "a7e3af6b",
   "metadata": {},
   "source": [
    "### Convert String to Number"
   ]
  },
  {
   "cell_type": "code",
   "execution_count": 18,
   "id": "6fd188da",
   "metadata": {},
   "outputs": [
    {
     "name": "stdout",
     "output_type": "stream",
     "text": [
      "<class 'str'>\n",
      "25\n",
      "<class 'int'>\n"
     ]
    }
   ],
   "source": [
    "h = '25'\n",
    "i = int(h)\n",
    "\n",
    "print(type(h))\n",
    "print(i)\n",
    "print(type(i))"
   ]
  },
  {
   "cell_type": "markdown",
   "id": "c3457b6c",
   "metadata": {},
   "source": [
    "### Math Module"
   ]
  },
  {
   "cell_type": "code",
   "execution_count": 19,
   "id": "ca3203cd",
   "metadata": {},
   "outputs": [
    {
     "name": "stdout",
     "output_type": "stream",
     "text": [
      "6\n",
      "7\n",
      "6\n",
      "7\n"
     ]
    }
   ],
   "source": [
    "import math\n",
    "\n",
    "print(round(6.4))\n",
    "print(round(6.8))\n",
    "print(math.floor(6.8))\n",
    "print(math.ceil(6.8))"
   ]
  },
  {
   "cell_type": "markdown",
   "id": "87bc3496",
   "metadata": {},
   "source": [
    "### Tuple"
   ]
  },
  {
   "cell_type": "code",
   "execution_count": 20,
   "id": "1299d200",
   "metadata": {},
   "outputs": [
    {
     "name": "stdout",
     "output_type": "stream",
     "text": [
      "Print all tuple1:  ('physics', 'chemistry', 1997, 2000)\n",
      "Print all tuple2:  (1, 2, 3, 4, 5, 6, 7)\n",
      "Print tuple1 element-0:  physics\n",
      "Print tuple1 element-1 until 5:  (2, 3, 4, 5)\n",
      "Join two tuple:  ('physics', 'chemistry', 1997, 2000, 1, 2, 3, 4, 5, 6, 7)\n"
     ]
    }
   ],
   "source": [
    "tup1 = ('physics', 'chemistry', 1997, 2000)\n",
    "tup2 = (1, 2, 3, 4, 5, 6, 7 )\n",
    "\n",
    "print(\"Print all tuple1: \", tup1)\n",
    "print(\"Print all tuple2: \", tup2)\n",
    "print(\"Print tuple1 element-0: \", tup1[0])\n",
    "print(\"Print tuple1 element-1 until 5: \", tup2[1:5])\n",
    "print(\"Join two tuple: \", tup1 + tup2)"
   ]
  },
  {
   "cell_type": "code",
   "execution_count": 21,
   "id": "4ac06ae0",
   "metadata": {},
   "outputs": [
    {
     "data": {
      "text/plain": [
       "'chemistry'"
      ]
     },
     "execution_count": 21,
     "metadata": {},
     "output_type": "execute_result"
    }
   ],
   "source": [
    "tup1[1]"
   ]
  },
  {
   "cell_type": "markdown",
   "id": "98ad598c",
   "metadata": {},
   "source": [
    "### List"
   ]
  },
  {
   "cell_type": "code",
   "execution_count": 22,
   "id": "e12f8f36",
   "metadata": {},
   "outputs": [
    {
     "name": "stdout",
     "output_type": "stream",
     "text": [
      "Print all list:  ['abcd', 786, 2.23, 'john', 70.2]\n",
      "Print list element-0:  abcd\n",
      "Print list element-1:  786\n",
      "Print list element-1 until 3:  [786, 2.23]\n",
      "Print list element-1 until 4:  [786, 2.23, 'john']\n",
      "Print list element-2 until end:  [2.23, 'john', 70.2]\n",
      "Print list twice:  [123, 'john', 123, 'john']\n",
      "Join two list:  ['abcd', 786, 2.23, 'john', 70.2, 123, 'john'] \n",
      "\n"
     ]
    }
   ],
   "source": [
    "list1 = [ 'abcd', 786 , 2.23, 'john', 70.2 ]\n",
    "tinylist = [123, 'john']\n",
    "\n",
    "print(\"Print all list: \", list1)\n",
    "print(\"Print list element-0: \", list1[0])\n",
    "print(\"Print list element-1: \", list1[1])\n",
    "print(\"Print list element-1 until 3: \", list1[1:3])\n",
    "print(\"Print list element-1 until 4: \",list1[1:4])\n",
    "print(\"Print list element-2 until end: \",list1[2:])\n",
    "print(\"Print list twice: \",tinylist * 2)\n",
    "print(\"Join two list: \", list1 + tinylist, \"\\n\")"
   ]
  },
  {
   "cell_type": "code",
   "execution_count": 23,
   "id": "7528b261",
   "metadata": {},
   "outputs": [
    {
     "data": {
      "text/plain": [
       "'coba'"
      ]
     },
     "execution_count": 23,
     "metadata": {},
     "output_type": "execute_result"
    }
   ],
   "source": [
    "list1[1] = 'coba'\n",
    "list1[1]"
   ]
  },
  {
   "cell_type": "code",
   "execution_count": 24,
   "id": "ae8263bc",
   "metadata": {},
   "outputs": [
    {
     "data": {
      "text/plain": [
       "['abcd', 'coba', 2.23, 'john', 70.2]"
      ]
     },
     "execution_count": 24,
     "metadata": {},
     "output_type": "execute_result"
    }
   ],
   "source": [
    "list1"
   ]
  },
  {
   "cell_type": "code",
   "execution_count": 25,
   "id": "0f63a559",
   "metadata": {},
   "outputs": [],
   "source": [
    "# tuple[1] = 'math'\n",
    "# tuple[1]"
   ]
  },
  {
   "cell_type": "markdown",
   "id": "80d20232",
   "metadata": {},
   "source": [
    "### Dictionary\n",
    "\n",
    "+ jumlahnya 1: {'key': value}\n",
    "+ jumlahnya lebih dari 1: {'key1': value1, 'key2': value2, 'key3': {'key3.1': value31, 'key3.2': value32}}"
   ]
  },
  {
   "cell_type": "code",
   "execution_count": 26,
   "id": "3b7bda71",
   "metadata": {},
   "outputs": [
    {
     "name": "stdout",
     "output_type": "stream",
     "text": [
      "Print dictionary on dict1['one']:  This is one\n",
      "Print dictionary on dict1[2]:  This is two\n",
      "Print dictionary on dict1:  {'one': 'This is one', 2: 'This is two'}\n",
      "Print dictionary on tinydict:  {'name': 'john', 'code': 6734, 'dept': {'pos': 'engineering'}}\n",
      "Print tinydict dictionary keys:  dict_keys(['name', 'code', 'dept'])\n",
      "Print tinydict dictionary values:  dict_values(['john', 6734, {'pos': 'engineering'}]) \n",
      "\n"
     ]
    }
   ],
   "source": [
    "dict1 = {}\n",
    "dict1['one'] = \"This is one\"\n",
    "dict1[2] = \"This is two\"\n",
    "tinydict = {'name': 'john','code':6734, 'dept': {'pos': 'sales', 'pos': 'engineering'}}\n",
    "\n",
    "print(\"Print dictionary on dict1['one']: \", dict1['one'])\n",
    "print(\"Print dictionary on dict1[2]: \",dict1[2])\n",
    "print(\"Print dictionary on dict1: \", dict1)\n",
    "print(\"Print dictionary on tinydict: \", tinydict)\n",
    "print(\"Print tinydict dictionary keys: \", tinydict.keys())\n",
    "print(\"Print tinydict dictionary values: \", tinydict.values(), \"\\n\")"
   ]
  },
  {
   "cell_type": "markdown",
   "id": "d5096b45",
   "metadata": {},
   "source": [
    "### Numpy"
   ]
  },
  {
   "cell_type": "code",
   "execution_count": 27,
   "id": "f55e3521",
   "metadata": {},
   "outputs": [],
   "source": [
    "import numpy as np"
   ]
  },
  {
   "cell_type": "code",
   "execution_count": 28,
   "id": "9b19bc3e",
   "metadata": {},
   "outputs": [
    {
     "data": {
      "text/plain": [
       "list"
      ]
     },
     "execution_count": 28,
     "metadata": {},
     "output_type": "execute_result"
    }
   ],
   "source": [
    "my_list = [1, 2, 3, 4, 5]\n",
    "\n",
    "type(my_list)"
   ]
  },
  {
   "cell_type": "code",
   "execution_count": 29,
   "id": "7e365609",
   "metadata": {},
   "outputs": [
    {
     "data": {
      "text/plain": [
       "[1, 2, 3, 4, 5]"
      ]
     },
     "execution_count": 29,
     "metadata": {},
     "output_type": "execute_result"
    }
   ],
   "source": [
    "my_list"
   ]
  },
  {
   "cell_type": "code",
   "execution_count": 30,
   "id": "fe6dcaa0",
   "metadata": {},
   "outputs": [
    {
     "data": {
      "text/plain": [
       "numpy.ndarray"
      ]
     },
     "execution_count": 30,
     "metadata": {},
     "output_type": "execute_result"
    }
   ],
   "source": [
    "my_list_np = np.array(my_list)\n",
    "\n",
    "type(my_list_np)"
   ]
  },
  {
   "cell_type": "code",
   "execution_count": 31,
   "id": "5edb9d31",
   "metadata": {},
   "outputs": [
    {
     "data": {
      "text/plain": [
       "array([1, 2, 3, 4, 5])"
      ]
     },
     "execution_count": 31,
     "metadata": {},
     "output_type": "execute_result"
    }
   ],
   "source": [
    "my_list_np"
   ]
  },
  {
   "cell_type": "code",
   "execution_count": 32,
   "id": "20f8694e",
   "metadata": {},
   "outputs": [
    {
     "data": {
      "text/plain": [
       "(5,)"
      ]
     },
     "execution_count": 32,
     "metadata": {},
     "output_type": "execute_result"
    }
   ],
   "source": [
    "my_list_np.shape"
   ]
  },
  {
   "cell_type": "code",
   "execution_count": 33,
   "id": "8d4334ae",
   "metadata": {},
   "outputs": [
    {
     "data": {
      "text/plain": [
       "array([[1, 2, 7],\n",
       "       [3, 4, 6]])"
      ]
     },
     "execution_count": 33,
     "metadata": {},
     "output_type": "execute_result"
    }
   ],
   "source": [
    "my_list_matrix = np.array([[1, 2, 7], [3, 4, 6]])\n",
    "\n",
    "my_list_matrix"
   ]
  },
  {
   "cell_type": "code",
   "execution_count": 34,
   "id": "4e4a9caf",
   "metadata": {},
   "outputs": [
    {
     "data": {
      "text/plain": [
       "(2, 3)"
      ]
     },
     "execution_count": 34,
     "metadata": {},
     "output_type": "execute_result"
    }
   ],
   "source": [
    "my_list_matrix.shape"
   ]
  },
  {
   "cell_type": "code",
   "execution_count": 35,
   "id": "9880e963",
   "metadata": {},
   "outputs": [
    {
     "data": {
      "text/plain": [
       "array([0, 1, 2, 3, 4, 5, 6, 7, 8, 9])"
      ]
     },
     "execution_count": 35,
     "metadata": {},
     "output_type": "execute_result"
    }
   ],
   "source": [
    "np.arange(0, 10)"
   ]
  },
  {
   "cell_type": "code",
   "execution_count": 36,
   "id": "7dab90e5",
   "metadata": {},
   "outputs": [
    {
     "data": {
      "text/plain": [
       "array([0., 0., 0., 0., 0.])"
      ]
     },
     "execution_count": 36,
     "metadata": {},
     "output_type": "execute_result"
    }
   ],
   "source": [
    "np.zeros(5)"
   ]
  },
  {
   "cell_type": "code",
   "execution_count": 37,
   "id": "7aca2404",
   "metadata": {},
   "outputs": [
    {
     "data": {
      "text/plain": [
       "array([[63, 48, 62],\n",
       "       [72, 61, 84]])"
      ]
     },
     "execution_count": 37,
     "metadata": {},
     "output_type": "execute_result"
    }
   ],
   "source": [
    "mat1 = np.array([[1, 2, 7], [3, 4, 6]])\n",
    "mat2 = np.array([[2, 5, 8], [6, 4, 6], [7, 5, 6]])\n",
    "\n",
    "np.dot(mat1, mat2)"
   ]
  },
  {
   "cell_type": "code",
   "execution_count": 38,
   "id": "a1ce1522",
   "metadata": {},
   "outputs": [
    {
     "data": {
      "text/plain": [
       "array([[2, 5, 8],\n",
       "       [6, 4, 6],\n",
       "       [7, 5, 6]])"
      ]
     },
     "execution_count": 38,
     "metadata": {},
     "output_type": "execute_result"
    }
   ],
   "source": [
    "mat2"
   ]
  },
  {
   "cell_type": "code",
   "execution_count": 39,
   "id": "dcdf5f20",
   "metadata": {},
   "outputs": [
    {
     "data": {
      "text/plain": [
       "(3, 3)"
      ]
     },
     "execution_count": 39,
     "metadata": {},
     "output_type": "execute_result"
    }
   ],
   "source": [
    "mat2.shape"
   ]
  },
  {
   "cell_type": "code",
   "execution_count": 40,
   "id": "ddad09a5",
   "metadata": {},
   "outputs": [
    {
     "data": {
      "text/plain": [
       "array([2, 6, 7])"
      ]
     },
     "execution_count": 40,
     "metadata": {},
     "output_type": "execute_result"
    }
   ],
   "source": [
    "mat2[:, 0]"
   ]
  },
  {
   "cell_type": "code",
   "execution_count": 41,
   "id": "13da705e",
   "metadata": {},
   "outputs": [
    {
     "data": {
      "text/plain": [
       "array([6, 4])"
      ]
     },
     "execution_count": 41,
     "metadata": {},
     "output_type": "execute_result"
    }
   ],
   "source": [
    "mat2[1, 0:2]"
   ]
  },
  {
   "cell_type": "code",
   "execution_count": 42,
   "id": "c26fdd68",
   "metadata": {},
   "outputs": [
    {
     "data": {
      "text/plain": [
       "4"
      ]
     },
     "execution_count": 42,
     "metadata": {},
     "output_type": "execute_result"
    }
   ],
   "source": [
    "mat2[1][1]"
   ]
  },
  {
   "cell_type": "markdown",
   "id": "c971e6ee",
   "metadata": {},
   "source": [
    "### Pandas Series and DataFrame"
   ]
  },
  {
   "cell_type": "code",
   "execution_count": 43,
   "id": "595bbe90",
   "metadata": {},
   "outputs": [
    {
     "data": {
      "text/html": [
       "<div>\n",
       "<style scoped>\n",
       "    .dataframe tbody tr th:only-of-type {\n",
       "        vertical-align: middle;\n",
       "    }\n",
       "\n",
       "    .dataframe tbody tr th {\n",
       "        vertical-align: top;\n",
       "    }\n",
       "\n",
       "    .dataframe thead th {\n",
       "        text-align: right;\n",
       "    }\n",
       "</style>\n",
       "<table border=\"1\" class=\"dataframe\">\n",
       "  <thead>\n",
       "    <tr style=\"text-align: right;\">\n",
       "      <th></th>\n",
       "      <th>A</th>\n",
       "      <th>B</th>\n",
       "      <th>C</th>\n",
       "      <th>F</th>\n",
       "    </tr>\n",
       "  </thead>\n",
       "  <tbody>\n",
       "    <tr>\n",
       "      <th>1</th>\n",
       "      <td>1.116168</td>\n",
       "      <td>-0.368239</td>\n",
       "      <td>1.942100</td>\n",
       "      <td>0.462124</td>\n",
       "    </tr>\n",
       "    <tr>\n",
       "      <th>2</th>\n",
       "      <td>0.146719</td>\n",
       "      <td>0.788501</td>\n",
       "      <td>-0.067893</td>\n",
       "      <td>0.921075</td>\n",
       "    </tr>\n",
       "    <tr>\n",
       "      <th>3</th>\n",
       "      <td>0.394733</td>\n",
       "      <td>1.783883</td>\n",
       "      <td>-0.922283</td>\n",
       "      <td>1.578824</td>\n",
       "    </tr>\n",
       "    <tr>\n",
       "      <th>4</th>\n",
       "      <td>-1.415826</td>\n",
       "      <td>0.032231</td>\n",
       "      <td>-1.260538</td>\n",
       "      <td>-0.126706</td>\n",
       "    </tr>\n",
       "    <tr>\n",
       "      <th>5</th>\n",
       "      <td>1.058948</td>\n",
       "      <td>0.852673</td>\n",
       "      <td>0.382677</td>\n",
       "      <td>-1.637054</td>\n",
       "    </tr>\n",
       "  </tbody>\n",
       "</table>\n",
       "</div>"
      ],
      "text/plain": [
       "          A         B         C         F\n",
       "1  1.116168 -0.368239  1.942100  0.462124\n",
       "2  0.146719  0.788501 -0.067893  0.921075\n",
       "3  0.394733  1.783883 -0.922283  1.578824\n",
       "4 -1.415826  0.032231 -1.260538 -0.126706\n",
       "5  1.058948  0.852673  0.382677 -1.637054"
      ]
     },
     "execution_count": 43,
     "metadata": {},
     "output_type": "execute_result"
    }
   ],
   "source": [
    "import pandas as pd\n",
    "from numpy.random import randn\n",
    "\n",
    "df = pd.DataFrame(randn(5,4), index='1 2 3 4 5'.split(), columns='A B C F'.split())\n",
    "\n",
    "df"
   ]
  },
  {
   "cell_type": "code",
   "execution_count": 44,
   "id": "2374e2d9",
   "metadata": {},
   "outputs": [
    {
     "data": {
      "text/plain": [
       "20"
      ]
     },
     "execution_count": 44,
     "metadata": {},
     "output_type": "execute_result"
    }
   ],
   "source": [
    "df.size"
   ]
  },
  {
   "cell_type": "code",
   "execution_count": 45,
   "id": "9c6c64d9",
   "metadata": {},
   "outputs": [
    {
     "data": {
      "text/plain": [
       "(5, 4)"
      ]
     },
     "execution_count": 45,
     "metadata": {},
     "output_type": "execute_result"
    }
   ],
   "source": [
    "df.shape"
   ]
  },
  {
   "cell_type": "code",
   "execution_count": 46,
   "id": "e40001ce",
   "metadata": {},
   "outputs": [
    {
     "data": {
      "text/plain": [
       "1    1.116168\n",
       "2    0.146719\n",
       "3    0.394733\n",
       "4   -1.415826\n",
       "5    1.058948\n",
       "Name: A, dtype: float64"
      ]
     },
     "execution_count": 46,
     "metadata": {},
     "output_type": "execute_result"
    }
   ],
   "source": [
    "df['A']"
   ]
  },
  {
   "cell_type": "code",
   "execution_count": 47,
   "id": "48e50e4c",
   "metadata": {},
   "outputs": [
    {
     "data": {
      "text/html": [
       "<div>\n",
       "<style scoped>\n",
       "    .dataframe tbody tr th:only-of-type {\n",
       "        vertical-align: middle;\n",
       "    }\n",
       "\n",
       "    .dataframe tbody tr th {\n",
       "        vertical-align: top;\n",
       "    }\n",
       "\n",
       "    .dataframe thead th {\n",
       "        text-align: right;\n",
       "    }\n",
       "</style>\n",
       "<table border=\"1\" class=\"dataframe\">\n",
       "  <thead>\n",
       "    <tr style=\"text-align: right;\">\n",
       "      <th></th>\n",
       "      <th>B</th>\n",
       "      <th>C</th>\n",
       "    </tr>\n",
       "  </thead>\n",
       "  <tbody>\n",
       "    <tr>\n",
       "      <th>2</th>\n",
       "      <td>0.788501</td>\n",
       "      <td>-0.067893</td>\n",
       "    </tr>\n",
       "    <tr>\n",
       "      <th>3</th>\n",
       "      <td>1.783883</td>\n",
       "      <td>-0.922283</td>\n",
       "    </tr>\n",
       "  </tbody>\n",
       "</table>\n",
       "</div>"
      ],
      "text/plain": [
       "          B         C\n",
       "2  0.788501 -0.067893\n",
       "3  1.783883 -0.922283"
      ]
     },
     "execution_count": 47,
     "metadata": {},
     "output_type": "execute_result"
    }
   ],
   "source": [
    "df.loc[['2', '3'], ['B', 'C']]"
   ]
  },
  {
   "cell_type": "code",
   "execution_count": 48,
   "id": "6ea76a80",
   "metadata": {},
   "outputs": [
    {
     "data": {
      "text/plain": [
       "1   -0.368239\n",
       "2    0.788501\n",
       "3    1.783883\n",
       "4    0.032231\n",
       "5    0.852673\n",
       "Name: B, dtype: float64"
      ]
     },
     "execution_count": 48,
     "metadata": {},
     "output_type": "execute_result"
    }
   ],
   "source": [
    "df.iloc[:, 1]"
   ]
  },
  {
   "cell_type": "code",
   "execution_count": 49,
   "id": "948cb754",
   "metadata": {},
   "outputs": [
    {
     "data": {
      "text/plain": [
       "3    0.394733\n",
       "4   -1.415826\n",
       "Name: A, dtype: float64"
      ]
     },
     "execution_count": 49,
     "metadata": {},
     "output_type": "execute_result"
    }
   ],
   "source": [
    "df.iloc[2:4, 0]"
   ]
  },
  {
   "cell_type": "markdown",
   "id": "099ad5dc",
   "metadata": {},
   "source": [
    "# Logic"
   ]
  },
  {
   "cell_type": "code",
   "execution_count": 50,
   "id": "4fd9e88d",
   "metadata": {},
   "outputs": [],
   "source": [
    "nama = 'Sasuke'\n",
    "umur = 10\n",
    "jomblo = False"
   ]
  },
  {
   "cell_type": "markdown",
   "id": "38eda3f2",
   "metadata": {},
   "source": [
    "### If"
   ]
  },
  {
   "cell_type": "code",
   "execution_count": 51,
   "id": "4a2d8036",
   "metadata": {},
   "outputs": [],
   "source": [
    "if jomblo == True:\n",
    "    print(\"Sasuke jomblo\")"
   ]
  },
  {
   "cell_type": "markdown",
   "id": "57924ea1",
   "metadata": {},
   "source": [
    "### If Else"
   ]
  },
  {
   "cell_type": "code",
   "execution_count": 52,
   "id": "53521b58",
   "metadata": {},
   "outputs": [
    {
     "name": "stdout",
     "output_type": "stream",
     "text": [
      "Sasuke tidak jomblo\n"
     ]
    }
   ],
   "source": [
    "if jomblo == True:\n",
    "    print(\"Sasuke jomblo\")\n",
    "else:\n",
    "    print(\"Sasuke tidak jomblo\")"
   ]
  },
  {
   "cell_type": "markdown",
   "id": "5f99b6f8",
   "metadata": {},
   "source": [
    "AND \n",
    "1 & 1 = True\n",
    "1 & 0 = False\n",
    "0 & 1 = False\n",
    "0 & 0 = False\n",
    "\n",
    "AND \n",
    "1 & 1 = True\n",
    "1 & 0 = True\n",
    "0 & 1 = True\n",
    "0 & 0 = False\n"
   ]
  },
  {
   "cell_type": "markdown",
   "id": "6116873d",
   "metadata": {},
   "source": [
    "### And"
   ]
  },
  {
   "cell_type": "code",
   "execution_count": 53,
   "id": "60bc4d9c",
   "metadata": {},
   "outputs": [
    {
     "name": "stdout",
     "output_type": "stream",
     "text": [
      "Sasuke Kecil\n"
     ]
    }
   ],
   "source": [
    "if umur > 17:\n",
    "    print(\"Sasuke Dewasa\")\n",
    "elif umur > 14 and umur < 17:\n",
    "    print(\"Sasuke Remaja\")\n",
    "else:\n",
    "    print(\"Sasuke Kecil\")"
   ]
  },
  {
   "cell_type": "markdown",
   "id": "a5aeb5ed",
   "metadata": {},
   "source": [
    "### Or"
   ]
  },
  {
   "cell_type": "code",
   "execution_count": 54,
   "id": "be06a4a0",
   "metadata": {},
   "outputs": [
    {
     "name": "stdout",
     "output_type": "stream",
     "text": [
      "Sasuke Remaja\n"
     ]
    }
   ],
   "source": [
    "if umur > 17:\n",
    "    print(\"Sasuke Dewasa\")\n",
    "elif umur > 14 or umur < 17:\n",
    "    print(\"Sasuke Remaja\")\n",
    "else:\n",
    "    print(\"Sasuke Kecil\")"
   ]
  },
  {
   "cell_type": "code",
   "execution_count": 55,
   "id": "4e73d98c",
   "metadata": {},
   "outputs": [
    {
     "name": "stdout",
     "output_type": "stream",
     "text": [
      "False\n"
     ]
    }
   ],
   "source": [
    "buah = [\"nanas\", \"apel\", \"pepaya\", \"manggis\"]\n",
    "\n",
    "if buah[1] == \"manggis\":\n",
    "    print(\"True\")\n",
    "else:\n",
    "    print(\"False\")"
   ]
  },
  {
   "cell_type": "code",
   "execution_count": 56,
   "id": "6f5fbbcb",
   "metadata": {},
   "outputs": [
    {
     "data": {
      "text/plain": [
       "array([[1, 2, 7],\n",
       "       [3, 4, 6]])"
      ]
     },
     "execution_count": 56,
     "metadata": {},
     "output_type": "execute_result"
    }
   ],
   "source": [
    "matrix1 = np.array([[1, 2, 7], [3, 4, 6]])\n",
    "\n",
    "matrix1"
   ]
  },
  {
   "cell_type": "code",
   "execution_count": 57,
   "id": "dd4aa679",
   "metadata": {},
   "outputs": [
    {
     "name": "stdout",
     "output_type": "stream",
     "text": [
      "True\n"
     ]
    }
   ],
   "source": [
    "if matrix1[1][1] == 4:\n",
    "    print(\"True\")\n",
    "else:\n",
    "    print(\"False\")"
   ]
  },
  {
   "cell_type": "markdown",
   "id": "3674356c",
   "metadata": {},
   "source": [
    "# Loop atau Perulangan"
   ]
  },
  {
   "cell_type": "code",
   "execution_count": 58,
   "id": "2706fb8d",
   "metadata": {},
   "outputs": [],
   "source": [
    "fruits = [\"nanas\", \"pisang\", \"semangka\", \"apple\"]"
   ]
  },
  {
   "cell_type": "markdown",
   "id": "a64d25c3",
   "metadata": {},
   "source": [
    "## For"
   ]
  },
  {
   "cell_type": "code",
   "execution_count": 59,
   "id": "09680cfc",
   "metadata": {},
   "outputs": [
    {
     "name": "stdout",
     "output_type": "stream",
     "text": [
      "nanas\n",
      "pisang\n",
      "semangka\n",
      "apple\n"
     ]
    }
   ],
   "source": [
    "for fruit in fruits:\n",
    "    print(fruit)"
   ]
  },
  {
   "cell_type": "code",
   "execution_count": 60,
   "id": "e0405518",
   "metadata": {},
   "outputs": [
    {
     "name": "stdout",
     "output_type": "stream",
     "text": [
      "0\n",
      "1\n",
      "2\n",
      "3\n",
      "4\n",
      "5\n",
      "6\n",
      "7\n",
      "8\n",
      "9\n"
     ]
    }
   ],
   "source": [
    "for i in range(10):\n",
    "    print(i)"
   ]
  },
  {
   "cell_type": "code",
   "execution_count": 61,
   "id": "80460fce",
   "metadata": {},
   "outputs": [
    {
     "name": "stdout",
     "output_type": "stream",
     "text": [
      "nanas buah ke 0\n",
      "pisang buah ke 1\n",
      "semangka buah ke 2\n",
      "apple buah ke 3\n"
     ]
    }
   ],
   "source": [
    "for i, fruit in enumerate(fruits):\n",
    "    print(f'{fruit} buah ke {i}')"
   ]
  },
  {
   "cell_type": "markdown",
   "id": "2ff5a9dd",
   "metadata": {},
   "source": [
    "## While"
   ]
  },
  {
   "cell_type": "code",
   "execution_count": 62,
   "id": "a6df83ca",
   "metadata": {},
   "outputs": [
    {
     "name": "stdout",
     "output_type": "stream",
     "text": [
      "The count is: 0\n",
      "The count is: 1\n",
      "The count is: 2\n",
      "The count is: 3\n",
      "The count is: 4\n",
      "The count is: 5\n",
      "The count is: 6\n",
      "The count is: 7\n",
      "The count is: 8\n",
      "\n",
      "Good bye!\n"
     ]
    }
   ],
   "source": [
    "count = 0\n",
    "\n",
    "while (count < 9):\n",
    "   print('The count is:', count)\n",
    "   count = count + 1\n",
    "\n",
    "print(\"\\nGood bye!\")"
   ]
  },
  {
   "cell_type": "markdown",
   "id": "7684d3d8",
   "metadata": {},
   "source": [
    "### Break"
   ]
  },
  {
   "cell_type": "code",
   "execution_count": 63,
   "id": "21a38cd9",
   "metadata": {},
   "outputs": [
    {
     "name": "stdout",
     "output_type": "stream",
     "text": [
      "Current Letter : P\n",
      "Current Letter : y\n",
      "Current Letter : t\n"
     ]
    }
   ],
   "source": [
    "for letter in 'Python':\n",
    "    print(\"Current Letter :\", letter)\n",
    "    \n",
    "    if letter == 'h':\n",
    "        break"
   ]
  },
  {
   "cell_type": "code",
   "execution_count": 64,
   "id": "fffdba52",
   "metadata": {},
   "outputs": [
    {
     "name": "stdout",
     "output_type": "stream",
     "text": [
      "Current variable value : 9\n",
      "Current variable value : 8\n",
      "Current variable value : 7\n",
      "Current variable value : 6\n",
      "Current variable value : 5\n"
     ]
    }
   ],
   "source": [
    "var = 10\n",
    "\n",
    "while var > 0:\n",
    "    var = var - 1\n",
    "    print(\"Current variable value :\", var)\n",
    "    \n",
    "    if var == 5:\n",
    "        break"
   ]
  },
  {
   "cell_type": "markdown",
   "id": "9c38935b",
   "metadata": {},
   "source": [
    "### Pass"
   ]
  },
  {
   "cell_type": "code",
   "execution_count": 65,
   "id": "d6b17990",
   "metadata": {},
   "outputs": [
    {
     "name": "stdout",
     "output_type": "stream",
     "text": [
      "Current Letter : P\n",
      "Current Letter : y\n",
      "Current Letter : t\n",
      "This is pass block\n",
      "Current Letter : h\n",
      "Current Letter : o\n",
      "Current Letter : n\n",
      "\n",
      "Good bye!\n"
     ]
    }
   ],
   "source": [
    "for letter in 'Python':\n",
    "    if letter == 'h':\n",
    "        pass\n",
    "        print('This is pass block')\n",
    "        \n",
    "    print('Current Letter :', letter)"
   ]
  },
  {
   "cell_type": "markdown",
   "id": "3a5caec0",
   "metadata": {},
   "source": [
    "# Function"
   ]
  },
  {
   "cell_type": "markdown",
   "id": "bfeb9ed5",
   "metadata": {},
   "source": [
    "### Void Function"
   ]
  },
  {
   "cell_type": "code",
   "execution_count": null,
   "id": "d1deee3e",
   "metadata": {},
   "outputs": [],
   "source": [
    "def print_coba"
   ]
  },
  {
   "cell_type": "markdown",
   "id": "bb9880dc",
   "metadata": {},
   "source": [
    "### Function with Return value"
   ]
  },
  {
   "cell_type": "code",
   "execution_count": 68,
   "id": "fd3a765e",
   "metadata": {},
   "outputs": [],
   "source": [
    "def perkalian(a, b):\n",
    "    hasil_kali = a * b\n",
    "    return hasil_kali"
   ]
  },
  {
   "cell_type": "code",
   "execution_count": 69,
   "id": "af667636",
   "metadata": {},
   "outputs": [
    {
     "data": {
      "text/plain": [
       "20"
      ]
     },
     "execution_count": 69,
     "metadata": {},
     "output_type": "execute_result"
    }
   ],
   "source": [
    "perkalian(10, 2)"
   ]
  },
  {
   "cell_type": "code",
   "execution_count": null,
   "id": "ce09a172",
   "metadata": {},
   "outputs": [],
   "source": [
    "def kali_bagi(a, b):\n",
    "    hasil_kali = a * b\n",
    "    hasil_bagi = a / b\n",
    "    return hasil_kali, hasil_bagi"
   ]
  },
  {
   "cell_type": "code",
   "execution_count": null,
   "id": "8a2fa944",
   "metadata": {},
   "outputs": [],
   "source": [
    "hasil_kali, hasil_bagi = kali_bagi(10, 2)\n",
    "\n",
    "print(hasil_kali)\n",
    "print(hasil_bagi)"
   ]
  },
  {
   "cell_type": "code",
   "execution_count": null,
   "id": "3ea4cd09",
   "metadata": {},
   "outputs": [],
   "source": []
  }
 ],
 "metadata": {
  "kernelspec": {
   "display_name": "Python 3 (ipykernel)",
   "language": "python",
   "name": "python3"
  },
  "language_info": {
   "codemirror_mode": {
    "name": "ipython",
    "version": 3
   },
   "file_extension": ".py",
   "mimetype": "text/x-python",
   "name": "python",
   "nbconvert_exporter": "python",
   "pygments_lexer": "ipython3",
   "version": "3.7.9"
  }
 },
 "nbformat": 4,
 "nbformat_minor": 5
}
